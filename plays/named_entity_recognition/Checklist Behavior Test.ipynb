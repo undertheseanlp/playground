{
 "cells": [
  {
   "cell_type": "code",
   "execution_count": 1,
   "id": "a96d0311",
   "metadata": {},
   "outputs": [],
   "source": [
    "import checklist\n",
    "from checklist.editor import Editor\n",
    "from checklist.perturb import Perturb\n",
    "from checklist.test_types import MFT, INV, DIR"
   ]
  },
  {
   "cell_type": "code",
   "execution_count": 3,
   "id": "7c99fc2a",
   "metadata": {},
   "outputs": [
    {
     "name": "stderr",
     "output_type": "stream",
     "text": [
      "Some weights of RobertaForMaskedLM were not initialized from the model checkpoint at roberta-base and are newly initialized: ['lm_head.decoder.bias']\n",
      "You should probably TRAIN this model on a down-stream task to be able to use it for predictions and inference.\n"
     ]
    },
    {
     "name": "stdout",
     "output_type": "stream",
     "text": [
      "Predicting 200 examples\n",
      "Test cases:      200\n",
      "Fails (rate):    94 (47.0%)\n",
      "\n",
      "Example fails:\n",
      "0.8 This is not an amazing list.\n",
      "----\n",
      "0.0 This is not an awful problem.\n",
      "----\n",
      "0.8 This is not an enjoyable substitute.\n",
      "----\n"
     ]
    },
    {
     "data": {
      "application/vnd.jupyter.widget-view+json": {
       "model_id": "24878a33ccaf4280b1ea524aacfee14f",
       "version_major": 2,
       "version_minor": 0
      },
      "text/plain": [
       "TestSummarizer(stats={'npassed': 106, 'nfailed': 94, 'nfiltered': 0}, summarizer={'name': 'Simple negation', '…"
      ]
     },
     "metadata": {},
     "output_type": "display_data"
    }
   ],
   "source": [
    "editor = Editor()\n",
    "\n",
    "# First, let's find some positive and negative adjectives\n",
    "', '.join(editor.suggest('Cái {a:mask} {thing}.', thing=['book', 'movie', 'show', 'game'])[:30])\n",
    "\n",
    "pos = ['good', 'enjoyable', 'exciting', 'excellent', 'amazing', 'great', 'engaging']\n",
    "neg = ['bad', 'terrible', 'awful', 'horrible']\n",
    "\n",
    "ret = editor.template('This is not {a:pos} {mask}.', pos=pos, labels=0, save=True, nsamples=100)\n",
    "ret += editor.template('This is not {a:neg} {mask}.', neg=neg, labels=1, save=True, nsamples=100)\n",
    "\n",
    "test = MFT(ret.data, labels=ret.labels, name='Simple negation',\n",
    "           capability='Negation', description='Very simple negations.')\n",
    "\n",
    "test = MFT(**ret, name='Simple negation',\n",
    "           capability='Negation', description='Very simple negations.')\n",
    "\n",
    "from pattern.en import sentiment\n",
    "\n",
    "import numpy as np\n",
    "\n",
    "\n",
    "def predict_proba(inputs):\n",
    "    p1 = np.array([(sentiment(x)[0] + 1) / 2. for x in inputs]).reshape(-1, 1)\n",
    "    p0 = 1 - p1\n",
    "    return np.hstack((p0, p1))\n",
    "\n",
    "\n",
    "predict_proba(['good', 'bad'])\n",
    "\n",
    "from checklist.pred_wrapper import PredictorWrapper\n",
    "\n",
    "wrapped_pp = PredictorWrapper.wrap_softmax(predict_proba)\n",
    "\n",
    "wrapped_pp(['good'])\n",
    "\n",
    "test.run(wrapped_pp)\n",
    "\n",
    "test.summary()\n",
    "\n",
    "# from IPython.display import HTML, Image, display\n",
    "\n",
    "# with open('visual_summary.gif', 'rb') as f:\n",
    "#     display(Image(data=f.read(), format='png'))\n",
    "\n",
    "test.visual_summary()"
   ]
  },
  {
   "cell_type": "code",
   "execution_count": 2,
   "id": "c26d1a97",
   "metadata": {},
   "outputs": [],
   "source": [
    "editor = Editor(language='vietnamese')"
   ]
  },
  {
   "cell_type": "code",
   "execution_count": 15,
   "id": "24ecc654",
   "metadata": {
    "scrolled": true
   },
   "outputs": [],
   "source": [
    "ts = \"Ở phi trường quốc tế Kuala Lumpur, người tài xế taxi gốc {mask} hỏi {mask} đi đâu, tôi đáp tỉnh bơ: “Về eo biển Malacca để sang Batam”.\"\n",
    "s = editor.visual_suggest(ts)"
   ]
  },
  {
   "cell_type": "code",
   "execution_count": 16,
   "id": "e39f1a05",
   "metadata": {},
   "outputs": [
    {
     "data": {
      "application/vnd.jupyter.widget-view+json": {
       "model_id": "ba108b1bd3e447f8a1c1905f37b2b8f5",
       "version_major": 2,
       "version_minor": 0
      },
      "text/plain": [
       "TemplateEditor(bert_suggests=[('Việt', 'tôi'), ('Malaysia', 'tôi'), ('Hoa', 'tôi'), ('Singapore', 'tôi'), ('In…"
      ]
     },
     "metadata": {},
     "output_type": "display_data"
    }
   ],
   "source": [
    "s"
   ]
  },
  {
   "cell_type": "code",
   "execution_count": 22,
   "id": "e2c0e967",
   "metadata": {},
   "outputs": [
    {
     "data": {
      "text/plain": [
       "[('Malaysia', 'tôi'), ('Hoa', 'tôi'), ('Việt', 'em')]"
      ]
     },
     "execution_count": 22,
     "metadata": {},
     "output_type": "execute_result"
    }
   ],
   "source": [
    "editor.selected_suggestions"
   ]
  },
  {
   "cell_type": "code",
   "execution_count": 13,
   "id": "c415fcd6",
   "metadata": {},
   "outputs": [
    {
     "data": {
      "text/plain": [
       "<bound method Editor.template of <checklist.editor.Editor object at 0x7f21218d8630>>"
      ]
     },
     "execution_count": 13,
     "metadata": {},
     "output_type": "execute_result"
    }
   ],
   "source": [
    "editor.template"
   ]
  },
  {
   "cell_type": "code",
   "execution_count": null,
   "id": "d41c4330",
   "metadata": {},
   "outputs": [],
   "source": []
  }
 ],
 "metadata": {
  "kernelspec": {
   "display_name": "Python 3",
   "language": "python",
   "name": "python3"
  },
  "language_info": {
   "codemirror_mode": {
    "name": "ipython",
    "version": 3
   },
   "file_extension": ".py",
   "mimetype": "text/x-python",
   "name": "python",
   "nbconvert_exporter": "python",
   "pygments_lexer": "ipython3",
   "version": "3.6.12"
  }
 },
 "nbformat": 4,
 "nbformat_minor": 5
}
